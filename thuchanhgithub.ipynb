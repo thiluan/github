{
 "cells": [
  {
   "cell_type": "code",
   "execution_count": 1,
   "id": "c2ea350c",
   "metadata": {},
   "outputs": [
    {
     "name": "stdout",
     "output_type": "stream",
     "text": [
      "NGUYỄN ĐÌNH LUÂN\n",
      "04/06/92\n",
      "XÓM 12- THÔN LỘC THƯỢNG - XÃ PHƯỚC SƠN - HUYỆN TUY PHƯỚC - TỈNH BÌNH ĐỊNH\n",
      "HỌC LÀM GAME 3D\n"
     ]
    }
   ],
   "source": [
    "print ('NGUYỄN ĐÌNH LUÂN')\n",
    "print ('04/06/92')\n",
    "print ('XÓM 12- THÔN LỘC THƯỢNG - XÃ PHƯỚC SƠN - HUYỆN TUY PHƯỚC - TỈNH BÌNH ĐỊNH')\n",
    "print ('HỌC LÀM GAME 3D')"
   ]
  }
 ],
 "metadata": {
  "kernelspec": {
   "display_name": "Python 3",
   "language": "python",
   "name": "python3"
  },
  "language_info": {
   "codemirror_mode": {
    "name": "ipython",
    "version": 3
   },
   "file_extension": ".py",
   "mimetype": "text/x-python",
   "name": "python",
   "nbconvert_exporter": "python",
   "pygments_lexer": "ipython3",
   "version": "3.8.8"
  }
 },
 "nbformat": 4,
 "nbformat_minor": 5
}
